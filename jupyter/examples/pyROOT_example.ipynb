{
 "cells": [
  {
   "cell_type": "markdown",
   "metadata": {},
   "source": [
    "# PyROOT example\n",
    "\n",
    "This pyROOT example was written by Dr. Shawfeng Dong. It is based upon the [ATLAS tutorial example for SLAC Tier3](https://usatlas.github.io/tier3docs/Tutorial-2019Aug/SLAC/), which was originally written in C++ by Shuwei Ye of BNL. [Trying out this example requires a python 2 kernel with PyROOT support, and with a ATLAS analysis release loaded](https://usatlas.github.io/tier3docs/jupyter/SLACjupyter.html)."
   ]
  },
  {
   "cell_type": "code",
   "execution_count": 1,
   "metadata": {},
   "outputs": [
    {
     "name": "stdout",
     "output_type": "stream",
     "text": [
      "Welcome to JupyROOT 6.16/00\n"
     ]
    }
   ],
   "source": [
    "# Set up ROOT and RootCore\n",
    "import ROOT"
   ]
  },
  {
   "cell_type": "code",
   "execution_count": 2,
   "metadata": {},
   "outputs": [
    {
     "data": {
      "text/plain": [
       "<ROOT.xAOD::TReturnCode object at 0x7ab6960>"
      ]
     },
     "execution_count": 2,
     "metadata": {},
     "output_type": "execute_result"
    },
    {
     "name": "stdout",
     "output_type": "stream",
     "text": [
      "xAOD::Init                INFO    Environment initialised for data access\n"
     ]
    }
   ],
   "source": [
    "# Initialize the xAOD infrastructure\n",
    "ROOT.xAOD.Init()"
   ]
  },
  {
   "cell_type": "code",
   "execution_count": 3,
   "metadata": {},
   "outputs": [],
   "source": [
    "# Set up the input files\n",
    "fileName = \"root://atlrdr1//xrootd/atlas/atlaslocalgroupdisk/rucio/data16_13TeV/f9/bd/DAOD_SUSY15.11525262._000003.pool.root.1\"\n",
    "treeName = \"CollectionTree\"\n",
    "f = ROOT.TFile.Open(fileName)"
   ]
  },
  {
   "cell_type": "code",
   "execution_count": 4,
   "metadata": {},
   "outputs": [
    {
     "name": "stdout",
     "output_type": "stream",
     "text": [
      "xAOD::MakeTransientTree   INFO    Created transient tree \"CollectionTree\" in ROOT's common memory\n"
     ]
    }
   ],
   "source": [
    "# Make the \"transient tree\"\n",
    "t = ROOT.xAOD.MakeTransientTree(f, treeName)"
   ]
  },
  {
   "cell_type": "code",
   "execution_count": 5,
   "metadata": {},
   "outputs": [],
   "source": [
    "# Open TFile to store the analysis histogram output\n",
    "fout = ROOT.TFile(\"pyROOTOutputFile.root\", \"recreate\")\n",
    "\n",
    "# Make histograms for storage\n",
    "h_njets_raw = ROOT.TH1D(\"h_njets_raw\", \"\", 20, 0, 20)\n",
    "h_mjj_raw = ROOT.TH1D(\"h_mjj_raw\", \"\", 100, 0, 500)"
   ]
  },
  {
   "cell_type": "code",
   "execution_count": null,
   "metadata": {},
   "outputs": [],
   "source": "# Print some information\nprint(f\"Number of input events: {t.GetEntries()}\")"
  },
  {
   "cell_type": "code",
   "execution_count": null,
   "metadata": {},
   "outputs": [],
   "source": "for entry in xrange(t.GetEntries()):\n    t.GetEntry(entry)\n    if entry % 100 == 0:\n        s = f\"Processing entry #{entry + 1}, run #{t.EventInfo.runNumber()}, event #{t.EventInfo.eventNumber()}\"\n        print(s)\n\n    jets_raw = []\n    for jet in t.AntiKt4EMTopoJets:\n        if entry % 100 == 0:\n            s = f\"Jet : {jet.pt()} {jet.eta()} {jet.phi()} {jet.m()}\"\n            print(s)\n        jets_raw.append(jet)\n\n    # Fill the analysis histograms accordingly\n    h_njets_raw.Fill(len(jets_raw))\n\n    if len(jets_raw) >= 2:\n        h_mjj_raw.Fill((jets_raw[0].p4() + jets_raw[1].p4()).M() / 1000.0)"
  },
  {
   "cell_type": "code",
   "execution_count": 8,
   "metadata": {},
   "outputs": [],
   "source": [
    "# Save the output file\n",
    "fout.Write()\n",
    "fout.Close()"
   ]
  },
  {
   "cell_type": "code",
   "execution_count": 9,
   "metadata": {},
   "outputs": [],
   "source": [
    "# Read the output file\n",
    "fout = ROOT.TFile(\"pyROOTOutputFile.root\", \"read\")\n",
    "h_mjj_raw = fout.Get(\"h_mjj_raw\")"
   ]
  },
  {
   "cell_type": "code",
   "execution_count": 10,
   "metadata": {},
   "outputs": [
    {
     "data": {
      "image/png": "[encoded data removed]",
      "text/plain": [
       "<IPython.core.display.Image object>"
      ]
     },
     "metadata": {},
     "output_type": "display_data"
    }
   ],
   "source": [
    "# Display the histogram\n",
    "# %jsroot on\n",
    "c = ROOT.TCanvas(\"Canvas 1\", \"Canvas 1\", 800, 600)\n",
    "h_mjj_raw.Draw()\n",
    "c.Draw()"
   ]
  },
  {
   "cell_type": "code",
   "execution_count": 11,
   "metadata": {},
   "outputs": [],
   "source": [
    "fout.Close()"
   ]
  }
 ],
 "metadata": {
  "kernelspec": {
   "display_name": "Python 2",
   "language": "python",
   "name": "python2"
  },
  "language_info": {
   "codemirror_mode": {
    "name": "ipython",
    "version": 3
   },
   "file_extension": ".py",
   "mimetype": "text/x-python",
   "name": "python",
   "nbconvert_exporter": "python",
   "pygments_lexer": "ipython3",
   "version": "3.6.8"
  }
 },
 "nbformat": 4,
 "nbformat_minor": 4
}
